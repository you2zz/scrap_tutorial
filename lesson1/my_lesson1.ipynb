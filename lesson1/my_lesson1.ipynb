{
 "cells": [
  {
   "cell_type": "code",
   "execution_count": null,
   "metadata": {},
   "outputs": [],
   "source": [
    "#pip install beautifulsoup4 \n",
    "#pip install lxml\n",
    "from bs4 import BeautifulSoup\n",
    "\n",
    "with open(\"blank/index2.html\", encoding='utf-8') as file:\n",
    "    src = file.read()\n",
    "    # print(src)\n",
    "\n",
    "soup = BeautifulSoup(src, \"lxml\")"
   ]
  },
  {
   "cell_type": "code",
   "execution_count": null,
   "metadata": {},
   "outputs": [],
   "source": [
    "title = soup.title\n",
    "print(title)\n",
    "print(title.text)\n",
    "print(title.string)"
   ]
  },
  {
   "cell_type": "code",
   "execution_count": null,
   "metadata": {},
   "outputs": [],
   "source": [
    "# .find() - находит первое вхождение искомого объекта  \n",
    "# .find_all() - находит все элементы и сохраняет их в список\n",
    "\n",
    "page_h1 = soup.find(\"h1\")\n",
    "print(page_h1)\n",
    "\n",
    "page_all_h1 = soup.find_all(\"h1\")\n",
    "print(page_all_h1)\n",
    "\n",
    "for item in page_all_h1:\n",
    "    print(item.text)"
   ]
  },
  {
   "cell_type": "code",
   "execution_count": null,
   "metadata": {},
   "outputs": [],
   "source": [
    "user_name = soup.find(\"div\", class_=\"user__name\").find(\"span\").text\n",
    "print(user_name)"
   ]
  },
  {
   "cell_type": "code",
   "execution_count": null,
   "metadata": {},
   "outputs": [],
   "source": [
    "usrr_name = soup.find(\"div\", {\"class\": \"user__name\", \"id\": \"aaa\"}).find(\"span\").text\n",
    "print(user_name)"
   ]
  },
  {
   "cell_type": "code",
   "execution_count": null,
   "metadata": {},
   "outputs": [],
   "source": [
    "find_all_span_in_user_info = soup.find(class_=\"user__info\").find_all(\"span\")\n",
    "print(find_all_span_in_user_info)\n",
    "\n",
    "for item in find_all_span_in_user_info:\n",
    "    print(item.text)"
   ]
  },
  {
   "cell_type": "code",
   "execution_count": null,
   "metadata": {},
   "outputs": [],
   "source": [
    "print(find_all_span_in_user_info[0])\n",
    "print(find_all_span_in_user_info[4].text)"
   ]
  },
  {
   "cell_type": "code",
   "execution_count": null,
   "metadata": {},
   "outputs": [],
   "source": [
    "# Первый метод поиска ссылок\n",
    "social_links = soup.find(class_ = 'social__networks').find('ul').find_all('a')\n",
    "print(social_links)\n",
    "\n",
    "for item in social_links:\n",
    "    item_text = item.text\n",
    "    item_url = item.get('href')\n",
    "    print(f'{item_text} : {item_url}')"
   ]
  },
  {
   "cell_type": "code",
   "execution_count": null,
   "metadata": {},
   "outputs": [],
   "source": [
    "# Второй метод поиска ссылок (найдет все ссылки нужные и не нужные)\n",
    "all_a = soup.find_all('a')\n",
    "print(all_a)"
   ]
  },
  {
   "attachments": {},
   "cell_type": "markdown",
   "metadata": {},
   "source": [
    "Методы find_parent() и find_parents()"
   ]
  },
  {
   "cell_type": "code",
   "execution_count": null,
   "metadata": {},
   "outputs": [],
   "source": [
    "post_div = soup.find(class_=\"post__text\").find_parent(\"div\", \"user__post\")\n",
    "print(post_div)"
   ]
  },
  {
   "cell_type": "code",
   "execution_count": null,
   "metadata": {},
   "outputs": [],
   "source": [
    "post_divs = soup.find(class_=\"post__text\").find_parents()\n",
    "print(post_divs)"
   ]
  },
  {
   "attachments": {},
   "cell_type": "markdown",
   "metadata": {},
   "source": [
    "Методы next_element() и previous_element(), find_next(), find_previous()"
   ]
  },
  {
   "cell_type": "code",
   "execution_count": null,
   "metadata": {},
   "outputs": [],
   "source": [
    "next_el = soup.find(class_=\"post__title\").next_element.next_element.text\n",
    "print(next_el)"
   ]
  },
  {
   "cell_type": "code",
   "execution_count": null,
   "metadata": {},
   "outputs": [],
   "source": [
    "# метод find_next()\n",
    "next_el = soup.find(class_=\"post__title\").find_next().text\n",
    "print(next_el)"
   ]
  },
  {
   "cell_type": "code",
   "execution_count": null,
   "metadata": {},
   "outputs": [],
   "source": [
    "prev_el = soup.find(class_=\"post__title\").find_previous()\n",
    "print(prev_el)"
   ]
  },
  {
   "attachments": {},
   "cell_type": "markdown",
   "metadata": {},
   "source": [
    "Методы find_next_sibling(), find_previos_sibling()"
   ]
  },
  {
   "cell_type": "code",
   "execution_count": null,
   "metadata": {},
   "outputs": [],
   "source": [
    "next_sib = soup.find(class_=\"post__title\").find_next_sibling()\n",
    "print(next_sib)"
   ]
  },
  {
   "cell_type": "code",
   "execution_count": null,
   "metadata": {},
   "outputs": [],
   "source": [
    "prev_sib = soup.find(class_=\"post__date\").find_previous_sibling().find_next()\n",
    "print(prev_sib)"
   ]
  },
  {
   "cell_type": "code",
   "execution_count": null,
   "metadata": {},
   "outputs": [],
   "source": [
    "next_sibs = soup.find(class_=\"post__title\").find_next_siblings()\n",
    "print(next_sibs)"
   ]
  },
  {
   "cell_type": "code",
   "execution_count": 49,
   "metadata": {},
   "outputs": [
    {
     "name": "stdout",
     "output_type": "stream",
     "text": [
      "/supermarket/\n",
      "shop_link\n",
      "/clothes/\n",
      "777\n"
     ]
    }
   ],
   "source": [
    "links = soup.find(class_=\"some__links\").find_all('a')\n",
    "# print(links)\n",
    "for links in links:\n",
    "    link_href_attr = links.get(\"href\")\n",
    "    link_data_attr = links.get(\"data-attr\")\n",
    "    print(link_href_attr)\n",
    "    print(link_data_attr)\n"
   ]
  }
 ],
 "metadata": {
  "kernelspec": {
   "display_name": "Python 3",
   "language": "python",
   "name": "python3"
  },
  "language_info": {
   "codemirror_mode": {
    "name": "ipython",
    "version": 3
   },
   "file_extension": ".py",
   "mimetype": "text/x-python",
   "name": "python",
   "nbconvert_exporter": "python",
   "pygments_lexer": "ipython3",
   "version": "3.11.3"
  },
  "orig_nbformat": 4
 },
 "nbformat": 4,
 "nbformat_minor": 2
}
