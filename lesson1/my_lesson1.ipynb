{
 "cells": [
  {
   "cell_type": "code",
   "execution_count": 3,
   "metadata": {},
   "outputs": [],
   "source": [
    "#pip install beautifulsoup4 \n",
    "#pip install lxml\n",
    "from bs4 import BeautifulSoup\n",
    "\n",
    "with open(\"blank/index.html\", encoding='utf-8') as file:\n",
    "    src = file.read()\n",
    "    # print(src)\n",
    "\n",
    "soup = BeautifulSoup(src, \"lxml\")"
   ]
  },
  {
   "cell_type": "code",
   "execution_count": 4,
   "metadata": {},
   "outputs": [
    {
     "name": "stdout",
     "output_type": "stream",
     "text": [
      "<title>Главная страница блога</title>\n",
      "Главная страница блога\n",
      "Главная страница блога\n"
     ]
    }
   ],
   "source": [
    "title = soup.title\n",
    "print(title)\n",
    "print(title.text)\n",
    "print(title.string)"
   ]
  },
  {
   "cell_type": "code",
   "execution_count": 5,
   "metadata": {},
   "outputs": [
    {
     "name": "stdout",
     "output_type": "stream",
     "text": [
      "<h1>Страница пользователя Mr. Anderson</h1>\n",
      "[<h1>Страница пользователя Mr. Anderson</h1>, <h1>Еще один заголовок</h1>]\n",
      "Страница пользователя Mr. Anderson\n",
      "Еще один заголовок\n"
     ]
    }
   ],
   "source": [
    "# .find() - находит первое вхождение искомого объекта  \n",
    "# .find_all() - находит все элементы и сохраняет их в список\n",
    "\n",
    "page_h1 = soup.find(\"h1\")\n",
    "print(page_h1)\n",
    "\n",
    "page_all_h1 = soup.find_all(\"h1\")\n",
    "print(page_all_h1)\n",
    "\n",
    "for item in page_all_h1:\n",
    "    print(item.text)"
   ]
  },
  {
   "cell_type": "code",
   "execution_count": 23,
   "metadata": {},
   "outputs": [
    {
     "name": "stdout",
     "output_type": "stream",
     "text": [
      "Mr Anderson\n"
     ]
    }
   ],
   "source": [
    "user_name = soup.find(\"div\", class_=\"user__name\").find(\"span\").text\n",
    "print(user_name)"
   ]
  },
  {
   "cell_type": "code",
   "execution_count": 26,
   "metadata": {},
   "outputs": [
    {
     "name": "stdout",
     "output_type": "stream",
     "text": [
      "Mr Anderson\n"
     ]
    }
   ],
   "source": [
    "usrr_name = soup.find(\"div\", {\"class\": \"user__name\", \"id\": \"aaa\"}).find(\"span\").text\n",
    "print(user_name)"
   ]
  },
  {
   "cell_type": "code",
   "execution_count": 6,
   "metadata": {},
   "outputs": [
    {
     "name": "stdout",
     "output_type": "stream",
     "text": [
      "[<span>Mr Anderson</span>, <span>Дата рождения:</span>, <span>01.01.1970</span>, <span class=\"city__label\">Город:</span>, <span>Los Angeles</span>]\n",
      "Mr Anderson\n",
      "Дата рождения:\n",
      "01.01.1970\n",
      "Город:\n",
      "Los Angeles\n"
     ]
    }
   ],
   "source": [
    "find_all_span_in_user_info = soup.find(class_=\"user__info\").find_all(\"span\")\n",
    "print(find_all_span_in_user_info)\n",
    "\n",
    "for item in find_all_span_in_user_info:\n",
    "    print(item.text)"
   ]
  }
 ],
 "metadata": {
  "kernelspec": {
   "display_name": "Python 3",
   "language": "python",
   "name": "python3"
  },
  "language_info": {
   "codemirror_mode": {
    "name": "ipython",
    "version": 3
   },
   "file_extension": ".py",
   "mimetype": "text/x-python",
   "name": "python",
   "nbconvert_exporter": "python",
   "pygments_lexer": "ipython3",
   "version": "3.11.3"
  },
  "orig_nbformat": 4
 },
 "nbformat": 4,
 "nbformat_minor": 2
}
