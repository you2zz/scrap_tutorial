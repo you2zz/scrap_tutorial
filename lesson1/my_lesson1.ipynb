{
 "cells": [
  {
   "cell_type": "code",
   "execution_count": 36,
   "metadata": {},
   "outputs": [],
   "source": [
    "#pip install beautifulsoup4 \n",
    "#pip install lxml\n",
    "from bs4 import BeautifulSoup\n",
    "\n",
    "with open(\"blank/index2.html\", encoding='utf-8') as file:\n",
    "    src = file.read()\n",
    "    # print(src)\n",
    "\n",
    "soup = BeautifulSoup(src, \"lxml\")"
   ]
  },
  {
   "cell_type": "code",
   "execution_count": 4,
   "metadata": {},
   "outputs": [
    {
     "name": "stdout",
     "output_type": "stream",
     "text": [
      "<title>Главная страница блога</title>\n",
      "Главная страница блога\n",
      "Главная страница блога\n"
     ]
    }
   ],
   "source": [
    "title = soup.title\n",
    "print(title)\n",
    "print(title.text)\n",
    "print(title.string)"
   ]
  },
  {
   "cell_type": "code",
   "execution_count": 5,
   "metadata": {},
   "outputs": [
    {
     "name": "stdout",
     "output_type": "stream",
     "text": [
      "<h1>Страница пользователя Mr. Anderson</h1>\n",
      "[<h1>Страница пользователя Mr. Anderson</h1>, <h1>Ещё один h1 заголовок</h1>]\n",
      "Страница пользователя Mr. Anderson\n",
      "Ещё один h1 заголовок\n"
     ]
    }
   ],
   "source": [
    "# .find() - находит первое вхождение искомого объекта  \n",
    "# .find_all() - находит все элементы и сохраняет их в список\n",
    "\n",
    "page_h1 = soup.find(\"h1\")\n",
    "print(page_h1)\n",
    "\n",
    "page_all_h1 = soup.find_all(\"h1\")\n",
    "print(page_all_h1)\n",
    "\n",
    "for item in page_all_h1:\n",
    "    print(item.text)"
   ]
  },
  {
   "cell_type": "code",
   "execution_count": 6,
   "metadata": {},
   "outputs": [
    {
     "name": "stdout",
     "output_type": "stream",
     "text": [
      "Mr Anderson\n"
     ]
    }
   ],
   "source": [
    "user_name = soup.find(\"div\", class_=\"user__name\").find(\"span\").text\n",
    "print(user_name)"
   ]
  },
  {
   "cell_type": "code",
   "execution_count": 7,
   "metadata": {},
   "outputs": [
    {
     "name": "stdout",
     "output_type": "stream",
     "text": [
      "Mr Anderson\n"
     ]
    }
   ],
   "source": [
    "usrr_name = soup.find(\"div\", {\"class\": \"user__name\", \"id\": \"aaa\"}).find(\"span\").text\n",
    "print(user_name)"
   ]
  },
  {
   "cell_type": "code",
   "execution_count": 8,
   "metadata": {},
   "outputs": [
    {
     "name": "stdout",
     "output_type": "stream",
     "text": [
      "[<span>Mr Anderson</span>, <span>Дата рождения:</span>, <span>01.01.1970</span>, <span class=\"city__label\">Город:</span>, <span>Los Angeles</span>]\n",
      "Mr Anderson\n",
      "Дата рождения:\n",
      "01.01.1970\n",
      "Город:\n",
      "Los Angeles\n"
     ]
    }
   ],
   "source": [
    "find_all_span_in_user_info = soup.find(class_=\"user__info\").find_all(\"span\")\n",
    "print(find_all_span_in_user_info)\n",
    "\n",
    "for item in find_all_span_in_user_info:\n",
    "    print(item.text)"
   ]
  },
  {
   "cell_type": "code",
   "execution_count": 9,
   "metadata": {},
   "outputs": [
    {
     "name": "stdout",
     "output_type": "stream",
     "text": [
      "<span>Mr Anderson</span>\n",
      "Los Angeles\n"
     ]
    }
   ],
   "source": [
    "print(find_all_span_in_user_info[0])\n",
    "print(find_all_span_in_user_info[4].text)"
   ]
  },
  {
   "cell_type": "code",
   "execution_count": 13,
   "metadata": {},
   "outputs": [
    {
     "name": "stdout",
     "output_type": "stream",
     "text": [
      "[<a href=\"http://instagram.com/username\">Instagram</a>, <a href=\"http://twitter.com/username\">Twitter</a>, <a href=\"http://youtube.com/username\">Youtube</a>]\n",
      "Instagram : http://instagram.com/username\n",
      "Twitter : http://twitter.com/username\n",
      "Youtube : http://youtube.com/username\n"
     ]
    }
   ],
   "source": [
    "# Первый метод поиска ссылок\n",
    "social_links = soup.find(class_ = 'social__networks').find('ul').find_all('a')\n",
    "print(social_links)\n",
    "\n",
    "for item in social_links:\n",
    "    item_text = item.text\n",
    "    item_url = item.get('href')\n",
    "    print(f'{item_text} : {item_url}')"
   ]
  },
  {
   "cell_type": "code",
   "execution_count": 12,
   "metadata": {},
   "outputs": [
    {
     "name": "stdout",
     "output_type": "stream",
     "text": [
      "[<a href=\"http://instagram.com/username\">Instagram</a>, <a href=\"http://twitter.com/username\">Twitter</a>, <a href=\"http://youtube.com/username\">Youtube</a>, <a data-attr=\"shop_link\" href=\"/supermarket/\">Магазин</a>, <a data-attr=\"777\" href=\"/clothes/\">Одежда для взрослых</a>]\n",
      "Instagram : http://instagram.com/username\n",
      "Twitter : http://twitter.com/username\n",
      "Youtube : http://youtube.com/username\n",
      "Магазин : /supermarket/\n",
      "Одежда для взрослых : /clothes/\n"
     ]
    }
   ],
   "source": [
    "# Второй метод поиска ссылок (найдет все ссылки нужные и не нужные)\n",
    "all_a = soup.find_all('a')\n",
    "print(all_a)\n",
    "for item in all_a:\n",
    "    item_text = item.text\n",
    "    item_url = item.get('href')\n",
    "    print(f'{item_text} : {item_url}')"
   ]
  },
  {
   "attachments": {},
   "cell_type": "markdown",
   "metadata": {},
   "source": [
    "Методы find_parent() и find_parents()"
   ]
  },
  {
   "cell_type": "code",
   "execution_count": 14,
   "metadata": {},
   "outputs": [
    {
     "name": "stdout",
     "output_type": "stream",
     "text": [
      "<div class=\"user__post\">\n",
      "<div class=\"user__post__info\">\n",
      "<div class=\"post__title\">\n",
      "<h3>Российская нейросеть сортирует пластик с точностью 95%</h3>\n",
      "</div>\n",
      "<div class=\"post__date\">\n",
      "                    01.01.2020\n",
      "                </div>\n",
      "<div class=\"post__text\">\n",
      "                    Lorem ipsum dolor sit amet, consectetur adipiscing elit, sed do eiusmod tempor incididunt ut labore\n",
      "                    et dolore magna aliqua. Vitae justo eget magna fermentum iaculis eu. Nibh sit amet commodo nulla\n",
      "                    facilisi nullam vehicula ipsum. Elit pellentesque habitant morbi tristique senectus et netus et\n",
      "                    malesuada.\n",
      "                </div>\n",
      "</div>\n",
      "</div>\n"
     ]
    }
   ],
   "source": [
    "post_div = soup.find(class_=\"post__text\").find_parent(\"div\", \"user__post\")\n",
    "print(post_div)"
   ]
  },
  {
   "cell_type": "code",
   "execution_count": 15,
   "metadata": {},
   "outputs": [
    {
     "name": "stdout",
     "output_type": "stream",
     "text": [
      "[<div class=\"user__post__info\">\n",
      "<div class=\"post__title\">\n",
      "<h3>Российская нейросеть сортирует пластик с точностью 95%</h3>\n",
      "</div>\n",
      "<div class=\"post__date\">\n",
      "                    01.01.2020\n",
      "                </div>\n",
      "<div class=\"post__text\">\n",
      "                    Lorem ipsum dolor sit amet, consectetur adipiscing elit, sed do eiusmod tempor incididunt ut labore\n",
      "                    et dolore magna aliqua. Vitae justo eget magna fermentum iaculis eu. Nibh sit amet commodo nulla\n",
      "                    facilisi nullam vehicula ipsum. Elit pellentesque habitant morbi tristique senectus et netus et\n",
      "                    malesuada.\n",
      "                </div>\n",
      "</div>, <div class=\"user__post\">\n",
      "<div class=\"user__post__info\">\n",
      "<div class=\"post__title\">\n",
      "<h3>Российская нейросеть сортирует пластик с точностью 95%</h3>\n",
      "</div>\n",
      "<div class=\"post__date\">\n",
      "                    01.01.2020\n",
      "                </div>\n",
      "<div class=\"post__text\">\n",
      "                    Lorem ipsum dolor sit amet, consectetur adipiscing elit, sed do eiusmod tempor incididunt ut labore\n",
      "                    et dolore magna aliqua. Vitae justo eget magna fermentum iaculis eu. Nibh sit amet commodo nulla\n",
      "                    facilisi nullam vehicula ipsum. Elit pellentesque habitant morbi tristique senectus et netus et\n",
      "                    malesuada.\n",
      "                </div>\n",
      "</div>\n",
      "</div>, <div class=\"user__blog__wall\">\n",
      "<div class=\"blog__title\">Блог</div>\n",
      "<div class=\"user__post\">\n",
      "<div class=\"user__post__info\">\n",
      "<div class=\"post__title\">\n",
      "<h3>Российская нейросеть сортирует пластик с точностью 95%</h3>\n",
      "</div>\n",
      "<div class=\"post__date\">\n",
      "                    01.01.2020\n",
      "                </div>\n",
      "<div class=\"post__text\">\n",
      "                    Lorem ipsum dolor sit amet, consectetur adipiscing elit, sed do eiusmod tempor incididunt ut labore\n",
      "                    et dolore magna aliqua. Vitae justo eget magna fermentum iaculis eu. Nibh sit amet commodo nulla\n",
      "                    facilisi nullam vehicula ipsum. Elit pellentesque habitant morbi tristique senectus et netus et\n",
      "                    malesuada.\n",
      "                </div>\n",
      "</div>\n",
      "</div>\n",
      "<div class=\"user__post\">\n",
      "<div class=\"user__post__info\">\n",
      "<div class=\"post__title\">\n",
      "<h3>Wi-Fi Hack одежда</h3>\n",
      "</div>\n",
      "<div class=\"post__text\">\n",
      "                    Semper risus in hendrerit gravida rutrum quisque. Imperdiet sed euismod nisi porta lorem mollis\n",
      "                    aliquam. Blandit massa enim nec dui nunc mattis enim. Enim neque volutpat ac tincidunt vitae semper.\n",
      "                </div>\n",
      "</div>\n",
      "</div>\n",
      "<div class=\"user__post\">\n",
      "<div class=\"user__post__info\">\n",
      "<div class=\"post__title\">\n",
      "<h3>Twitter будет банить пользователей, которые желают смерти другим</h3>\n",
      "</div>\n",
      "<div class=\"post__text\">\n",
      "                    Lobortis scelerisque fermentum dui faucibus in ornare quam viverra orci. Eget lorem dolor sed\n",
      "                    viverra ipsum nunc aliquet. Nunc id cursus metus aliquam eleifend mi in nulla. Aliquam id diam\n",
      "                    maecenas ultricies mi eget mauris pharetra. Ut tortor pretium viverra suspendisse potenti.\n",
      "                </div>\n",
      "</div>\n",
      "</div>\n",
      "</div>, <div class=\"container\">\n",
      "<h1>Страница пользователя Mr. Anderson</h1>\n",
      "<h1>Ещё один h1 заголовок</h1>\n",
      "<div class=\"user__data\">\n",
      "<div class=\"user__avatar\">\n",
      "<img alt=\"\" src=\"user_avatar.jpg\"/>\n",
      "</div>\n",
      "<div class=\"user__info\">\n",
      "<!--            <a href=\"\" class=\"user__name\">-->\n",
      "<!--                <span>Mrs Purple</span>-->\n",
      "<!--            </a>-->\n",
      "<div class=\"user__name\" id=\"aaa\">\n",
      "<span>Mr Anderson</span>\n",
      "</div>\n",
      "<div class=\"user__birth__date\">\n",
      "<span>Дата рождения:</span>\n",
      "<span>01.01.1970</span>\n",
      "</div>\n",
      "<div class=\"user__city\">\n",
      "<span class=\"city__label\">Город:</span>\n",
      "<span>Los Angeles</span>\n",
      "</div>\n",
      "<!--            <a href=\"\">ЕЩЁ КАКАЯ-ТО ССЫЛКА</a>-->\n",
      "<div class=\"social__networks\">\n",
      "<p>Ссылки на соц.сети:</p>\n",
      "<ul>\n",
      "<li>\n",
      "<a href=\"http://instagram.com/username\">Instagram</a>\n",
      "</li>\n",
      "<li>\n",
      "<a href=\"http://twitter.com/username\">Twitter</a>\n",
      "</li>\n",
      "<li>\n",
      "<a href=\"http://youtube.com/username\">Youtube</a>\n",
      "</li>\n",
      "</ul>\n",
      "</div>\n",
      "</div>\n",
      "</div>\n",
      "<div class=\"user__blog__wall\">\n",
      "<div class=\"blog__title\">Блог</div>\n",
      "<div class=\"user__post\">\n",
      "<div class=\"user__post__info\">\n",
      "<div class=\"post__title\">\n",
      "<h3>Российская нейросеть сортирует пластик с точностью 95%</h3>\n",
      "</div>\n",
      "<div class=\"post__date\">\n",
      "                    01.01.2020\n",
      "                </div>\n",
      "<div class=\"post__text\">\n",
      "                    Lorem ipsum dolor sit amet, consectetur adipiscing elit, sed do eiusmod tempor incididunt ut labore\n",
      "                    et dolore magna aliqua. Vitae justo eget magna fermentum iaculis eu. Nibh sit amet commodo nulla\n",
      "                    facilisi nullam vehicula ipsum. Elit pellentesque habitant morbi tristique senectus et netus et\n",
      "                    malesuada.\n",
      "                </div>\n",
      "</div>\n",
      "</div>\n",
      "<div class=\"user__post\">\n",
      "<div class=\"user__post__info\">\n",
      "<div class=\"post__title\">\n",
      "<h3>Wi-Fi Hack одежда</h3>\n",
      "</div>\n",
      "<div class=\"post__text\">\n",
      "                    Semper risus in hendrerit gravida rutrum quisque. Imperdiet sed euismod nisi porta lorem mollis\n",
      "                    aliquam. Blandit massa enim nec dui nunc mattis enim. Enim neque volutpat ac tincidunt vitae semper.\n",
      "                </div>\n",
      "</div>\n",
      "</div>\n",
      "<div class=\"user__post\">\n",
      "<div class=\"user__post__info\">\n",
      "<div class=\"post__title\">\n",
      "<h3>Twitter будет банить пользователей, которые желают смерти другим</h3>\n",
      "</div>\n",
      "<div class=\"post__text\">\n",
      "                    Lobortis scelerisque fermentum dui faucibus in ornare quam viverra orci. Eget lorem dolor sed\n",
      "                    viverra ipsum nunc aliquet. Nunc id cursus metus aliquam eleifend mi in nulla. Aliquam id diam\n",
      "                    maecenas ultricies mi eget mauris pharetra. Ut tortor pretium viverra suspendisse potenti.\n",
      "                </div>\n",
      "</div>\n",
      "</div>\n",
      "</div>\n",
      "<div class=\"some__links\">\n",
      "<a data-attr=\"shop_link\" href=\"/supermarket/\">Магазин</a>\n",
      "<a data-attr=\"777\" href=\"/clothes/\">Одежда для взрослых</a>\n",
      "</div>\n",
      "</div>, <body>\n",
      "<div class=\"container\">\n",
      "<h1>Страница пользователя Mr. Anderson</h1>\n",
      "<h1>Ещё один h1 заголовок</h1>\n",
      "<div class=\"user__data\">\n",
      "<div class=\"user__avatar\">\n",
      "<img alt=\"\" src=\"user_avatar.jpg\"/>\n",
      "</div>\n",
      "<div class=\"user__info\">\n",
      "<!--            <a href=\"\" class=\"user__name\">-->\n",
      "<!--                <span>Mrs Purple</span>-->\n",
      "<!--            </a>-->\n",
      "<div class=\"user__name\" id=\"aaa\">\n",
      "<span>Mr Anderson</span>\n",
      "</div>\n",
      "<div class=\"user__birth__date\">\n",
      "<span>Дата рождения:</span>\n",
      "<span>01.01.1970</span>\n",
      "</div>\n",
      "<div class=\"user__city\">\n",
      "<span class=\"city__label\">Город:</span>\n",
      "<span>Los Angeles</span>\n",
      "</div>\n",
      "<!--            <a href=\"\">ЕЩЁ КАКАЯ-ТО ССЫЛКА</a>-->\n",
      "<div class=\"social__networks\">\n",
      "<p>Ссылки на соц.сети:</p>\n",
      "<ul>\n",
      "<li>\n",
      "<a href=\"http://instagram.com/username\">Instagram</a>\n",
      "</li>\n",
      "<li>\n",
      "<a href=\"http://twitter.com/username\">Twitter</a>\n",
      "</li>\n",
      "<li>\n",
      "<a href=\"http://youtube.com/username\">Youtube</a>\n",
      "</li>\n",
      "</ul>\n",
      "</div>\n",
      "</div>\n",
      "</div>\n",
      "<div class=\"user__blog__wall\">\n",
      "<div class=\"blog__title\">Блог</div>\n",
      "<div class=\"user__post\">\n",
      "<div class=\"user__post__info\">\n",
      "<div class=\"post__title\">\n",
      "<h3>Российская нейросеть сортирует пластик с точностью 95%</h3>\n",
      "</div>\n",
      "<div class=\"post__date\">\n",
      "                    01.01.2020\n",
      "                </div>\n",
      "<div class=\"post__text\">\n",
      "                    Lorem ipsum dolor sit amet, consectetur adipiscing elit, sed do eiusmod tempor incididunt ut labore\n",
      "                    et dolore magna aliqua. Vitae justo eget magna fermentum iaculis eu. Nibh sit amet commodo nulla\n",
      "                    facilisi nullam vehicula ipsum. Elit pellentesque habitant morbi tristique senectus et netus et\n",
      "                    malesuada.\n",
      "                </div>\n",
      "</div>\n",
      "</div>\n",
      "<div class=\"user__post\">\n",
      "<div class=\"user__post__info\">\n",
      "<div class=\"post__title\">\n",
      "<h3>Wi-Fi Hack одежда</h3>\n",
      "</div>\n",
      "<div class=\"post__text\">\n",
      "                    Semper risus in hendrerit gravida rutrum quisque. Imperdiet sed euismod nisi porta lorem mollis\n",
      "                    aliquam. Blandit massa enim nec dui nunc mattis enim. Enim neque volutpat ac tincidunt vitae semper.\n",
      "                </div>\n",
      "</div>\n",
      "</div>\n",
      "<div class=\"user__post\">\n",
      "<div class=\"user__post__info\">\n",
      "<div class=\"post__title\">\n",
      "<h3>Twitter будет банить пользователей, которые желают смерти другим</h3>\n",
      "</div>\n",
      "<div class=\"post__text\">\n",
      "                    Lobortis scelerisque fermentum dui faucibus in ornare quam viverra orci. Eget lorem dolor sed\n",
      "                    viverra ipsum nunc aliquet. Nunc id cursus metus aliquam eleifend mi in nulla. Aliquam id diam\n",
      "                    maecenas ultricies mi eget mauris pharetra. Ut tortor pretium viverra suspendisse potenti.\n",
      "                </div>\n",
      "</div>\n",
      "</div>\n",
      "</div>\n",
      "<div class=\"some__links\">\n",
      "<a data-attr=\"shop_link\" href=\"/supermarket/\">Магазин</a>\n",
      "<a data-attr=\"777\" href=\"/clothes/\">Одежда для взрослых</a>\n",
      "</div>\n",
      "</div>\n",
      "</body>, <html lang=\"en\">\n",
      "<head>\n",
      "<meta charset=\"utf-8\"/>\n",
      "<title>Главная страница блога</title>\n",
      "<link href=\"style.css\" rel=\"stylesheet\"/>\n",
      "</head>\n",
      "<body>\n",
      "<div class=\"container\">\n",
      "<h1>Страница пользователя Mr. Anderson</h1>\n",
      "<h1>Ещё один h1 заголовок</h1>\n",
      "<div class=\"user__data\">\n",
      "<div class=\"user__avatar\">\n",
      "<img alt=\"\" src=\"user_avatar.jpg\"/>\n",
      "</div>\n",
      "<div class=\"user__info\">\n",
      "<!--            <a href=\"\" class=\"user__name\">-->\n",
      "<!--                <span>Mrs Purple</span>-->\n",
      "<!--            </a>-->\n",
      "<div class=\"user__name\" id=\"aaa\">\n",
      "<span>Mr Anderson</span>\n",
      "</div>\n",
      "<div class=\"user__birth__date\">\n",
      "<span>Дата рождения:</span>\n",
      "<span>01.01.1970</span>\n",
      "</div>\n",
      "<div class=\"user__city\">\n",
      "<span class=\"city__label\">Город:</span>\n",
      "<span>Los Angeles</span>\n",
      "</div>\n",
      "<!--            <a href=\"\">ЕЩЁ КАКАЯ-ТО ССЫЛКА</a>-->\n",
      "<div class=\"social__networks\">\n",
      "<p>Ссылки на соц.сети:</p>\n",
      "<ul>\n",
      "<li>\n",
      "<a href=\"http://instagram.com/username\">Instagram</a>\n",
      "</li>\n",
      "<li>\n",
      "<a href=\"http://twitter.com/username\">Twitter</a>\n",
      "</li>\n",
      "<li>\n",
      "<a href=\"http://youtube.com/username\">Youtube</a>\n",
      "</li>\n",
      "</ul>\n",
      "</div>\n",
      "</div>\n",
      "</div>\n",
      "<div class=\"user__blog__wall\">\n",
      "<div class=\"blog__title\">Блог</div>\n",
      "<div class=\"user__post\">\n",
      "<div class=\"user__post__info\">\n",
      "<div class=\"post__title\">\n",
      "<h3>Российская нейросеть сортирует пластик с точностью 95%</h3>\n",
      "</div>\n",
      "<div class=\"post__date\">\n",
      "                    01.01.2020\n",
      "                </div>\n",
      "<div class=\"post__text\">\n",
      "                    Lorem ipsum dolor sit amet, consectetur adipiscing elit, sed do eiusmod tempor incididunt ut labore\n",
      "                    et dolore magna aliqua. Vitae justo eget magna fermentum iaculis eu. Nibh sit amet commodo nulla\n",
      "                    facilisi nullam vehicula ipsum. Elit pellentesque habitant morbi tristique senectus et netus et\n",
      "                    malesuada.\n",
      "                </div>\n",
      "</div>\n",
      "</div>\n",
      "<div class=\"user__post\">\n",
      "<div class=\"user__post__info\">\n",
      "<div class=\"post__title\">\n",
      "<h3>Wi-Fi Hack одежда</h3>\n",
      "</div>\n",
      "<div class=\"post__text\">\n",
      "                    Semper risus in hendrerit gravida rutrum quisque. Imperdiet sed euismod nisi porta lorem mollis\n",
      "                    aliquam. Blandit massa enim nec dui nunc mattis enim. Enim neque volutpat ac tincidunt vitae semper.\n",
      "                </div>\n",
      "</div>\n",
      "</div>\n",
      "<div class=\"user__post\">\n",
      "<div class=\"user__post__info\">\n",
      "<div class=\"post__title\">\n",
      "<h3>Twitter будет банить пользователей, которые желают смерти другим</h3>\n",
      "</div>\n",
      "<div class=\"post__text\">\n",
      "                    Lobortis scelerisque fermentum dui faucibus in ornare quam viverra orci. Eget lorem dolor sed\n",
      "                    viverra ipsum nunc aliquet. Nunc id cursus metus aliquam eleifend mi in nulla. Aliquam id diam\n",
      "                    maecenas ultricies mi eget mauris pharetra. Ut tortor pretium viverra suspendisse potenti.\n",
      "                </div>\n",
      "</div>\n",
      "</div>\n",
      "</div>\n",
      "<div class=\"some__links\">\n",
      "<a data-attr=\"shop_link\" href=\"/supermarket/\">Магазин</a>\n",
      "<a data-attr=\"777\" href=\"/clothes/\">Одежда для взрослых</a>\n",
      "</div>\n",
      "</div>\n",
      "</body>\n",
      "</html>, <!DOCTYPE html>\n",
      "<html lang=\"en\">\n",
      "<head>\n",
      "<meta charset=\"utf-8\"/>\n",
      "<title>Главная страница блога</title>\n",
      "<link href=\"style.css\" rel=\"stylesheet\"/>\n",
      "</head>\n",
      "<body>\n",
      "<div class=\"container\">\n",
      "<h1>Страница пользователя Mr. Anderson</h1>\n",
      "<h1>Ещё один h1 заголовок</h1>\n",
      "<div class=\"user__data\">\n",
      "<div class=\"user__avatar\">\n",
      "<img alt=\"\" src=\"user_avatar.jpg\"/>\n",
      "</div>\n",
      "<div class=\"user__info\">\n",
      "<!--            <a href=\"\" class=\"user__name\">-->\n",
      "<!--                <span>Mrs Purple</span>-->\n",
      "<!--            </a>-->\n",
      "<div class=\"user__name\" id=\"aaa\">\n",
      "<span>Mr Anderson</span>\n",
      "</div>\n",
      "<div class=\"user__birth__date\">\n",
      "<span>Дата рождения:</span>\n",
      "<span>01.01.1970</span>\n",
      "</div>\n",
      "<div class=\"user__city\">\n",
      "<span class=\"city__label\">Город:</span>\n",
      "<span>Los Angeles</span>\n",
      "</div>\n",
      "<!--            <a href=\"\">ЕЩЁ КАКАЯ-ТО ССЫЛКА</a>-->\n",
      "<div class=\"social__networks\">\n",
      "<p>Ссылки на соц.сети:</p>\n",
      "<ul>\n",
      "<li>\n",
      "<a href=\"http://instagram.com/username\">Instagram</a>\n",
      "</li>\n",
      "<li>\n",
      "<a href=\"http://twitter.com/username\">Twitter</a>\n",
      "</li>\n",
      "<li>\n",
      "<a href=\"http://youtube.com/username\">Youtube</a>\n",
      "</li>\n",
      "</ul>\n",
      "</div>\n",
      "</div>\n",
      "</div>\n",
      "<div class=\"user__blog__wall\">\n",
      "<div class=\"blog__title\">Блог</div>\n",
      "<div class=\"user__post\">\n",
      "<div class=\"user__post__info\">\n",
      "<div class=\"post__title\">\n",
      "<h3>Российская нейросеть сортирует пластик с точностью 95%</h3>\n",
      "</div>\n",
      "<div class=\"post__date\">\n",
      "                    01.01.2020\n",
      "                </div>\n",
      "<div class=\"post__text\">\n",
      "                    Lorem ipsum dolor sit amet, consectetur adipiscing elit, sed do eiusmod tempor incididunt ut labore\n",
      "                    et dolore magna aliqua. Vitae justo eget magna fermentum iaculis eu. Nibh sit amet commodo nulla\n",
      "                    facilisi nullam vehicula ipsum. Elit pellentesque habitant morbi tristique senectus et netus et\n",
      "                    malesuada.\n",
      "                </div>\n",
      "</div>\n",
      "</div>\n",
      "<div class=\"user__post\">\n",
      "<div class=\"user__post__info\">\n",
      "<div class=\"post__title\">\n",
      "<h3>Wi-Fi Hack одежда</h3>\n",
      "</div>\n",
      "<div class=\"post__text\">\n",
      "                    Semper risus in hendrerit gravida rutrum quisque. Imperdiet sed euismod nisi porta lorem mollis\n",
      "                    aliquam. Blandit massa enim nec dui nunc mattis enim. Enim neque volutpat ac tincidunt vitae semper.\n",
      "                </div>\n",
      "</div>\n",
      "</div>\n",
      "<div class=\"user__post\">\n",
      "<div class=\"user__post__info\">\n",
      "<div class=\"post__title\">\n",
      "<h3>Twitter будет банить пользователей, которые желают смерти другим</h3>\n",
      "</div>\n",
      "<div class=\"post__text\">\n",
      "                    Lobortis scelerisque fermentum dui faucibus in ornare quam viverra orci. Eget lorem dolor sed\n",
      "                    viverra ipsum nunc aliquet. Nunc id cursus metus aliquam eleifend mi in nulla. Aliquam id diam\n",
      "                    maecenas ultricies mi eget mauris pharetra. Ut tortor pretium viverra suspendisse potenti.\n",
      "                </div>\n",
      "</div>\n",
      "</div>\n",
      "</div>\n",
      "<div class=\"some__links\">\n",
      "<a data-attr=\"shop_link\" href=\"/supermarket/\">Магазин</a>\n",
      "<a data-attr=\"777\" href=\"/clothes/\">Одежда для взрослых</a>\n",
      "</div>\n",
      "</div>\n",
      "</body>\n",
      "</html>]\n"
     ]
    }
   ],
   "source": [
    "post_divs = soup.find(class_=\"post__text\").find_parents()\n",
    "print(post_divs)"
   ]
  },
  {
   "attachments": {},
   "cell_type": "markdown",
   "metadata": {},
   "source": [
    "Методы next_element() и previous_element(), find_next(), find_previous()"
   ]
  },
  {
   "cell_type": "code",
   "execution_count": 16,
   "metadata": {},
   "outputs": [
    {
     "name": "stdout",
     "output_type": "stream",
     "text": [
      "Российская нейросеть сортирует пластик с точностью 95%\n"
     ]
    }
   ],
   "source": [
    "next_el = soup.find(class_=\"post__title\").next_element.next_element.text\n",
    "print(next_el)"
   ]
  },
  {
   "cell_type": "code",
   "execution_count": 17,
   "metadata": {},
   "outputs": [
    {
     "name": "stdout",
     "output_type": "stream",
     "text": [
      "Российская нейросеть сортирует пластик с точностью 95%\n"
     ]
    }
   ],
   "source": [
    "# метод find_next()\n",
    "next_el = soup.find(class_=\"post__title\").find_next().text\n",
    "print(next_el)"
   ]
  },
  {
   "cell_type": "code",
   "execution_count": 18,
   "metadata": {},
   "outputs": [
    {
     "name": "stdout",
     "output_type": "stream",
     "text": [
      "<div class=\"user__post__info\">\n",
      "<div class=\"post__title\">\n",
      "<h3>Российская нейросеть сортирует пластик с точностью 95%</h3>\n",
      "</div>\n",
      "<div class=\"post__date\">\n",
      "                    01.01.2020\n",
      "                </div>\n",
      "<div class=\"post__text\">\n",
      "                    Lorem ipsum dolor sit amet, consectetur adipiscing elit, sed do eiusmod tempor incididunt ut labore\n",
      "                    et dolore magna aliqua. Vitae justo eget magna fermentum iaculis eu. Nibh sit amet commodo nulla\n",
      "                    facilisi nullam vehicula ipsum. Elit pellentesque habitant morbi tristique senectus et netus et\n",
      "                    malesuada.\n",
      "                </div>\n",
      "</div>\n"
     ]
    }
   ],
   "source": [
    "prev_el = soup.find(class_=\"post__title\").find_previous()\n",
    "print(prev_el)"
   ]
  },
  {
   "attachments": {},
   "cell_type": "markdown",
   "metadata": {},
   "source": [
    "Методы find_next_sibling(), find_previos_sibling()"
   ]
  },
  {
   "cell_type": "code",
   "execution_count": 19,
   "metadata": {},
   "outputs": [
    {
     "name": "stdout",
     "output_type": "stream",
     "text": [
      "<div class=\"post__date\">\n",
      "                    01.01.2020\n",
      "                </div>\n"
     ]
    }
   ],
   "source": [
    "next_sib = soup.find(class_=\"post__title\").find_next_sibling()\n",
    "print(next_sib)"
   ]
  },
  {
   "cell_type": "code",
   "execution_count": 23,
   "metadata": {},
   "outputs": [
    {
     "name": "stdout",
     "output_type": "stream",
     "text": [
      "<h3>Российская нейросеть сортирует пластик с точностью 95%</h3>\n"
     ]
    }
   ],
   "source": [
    "prev_sib = soup.find(class_=\"post__date\").find_previous_sibling().find_next()\n",
    "print(prev_sib)"
   ]
  },
  {
   "cell_type": "code",
   "execution_count": 21,
   "metadata": {},
   "outputs": [
    {
     "name": "stdout",
     "output_type": "stream",
     "text": [
      "[<div class=\"post__date\">\n",
      "                    01.01.2020\n",
      "                </div>, <div class=\"post__text\">\n",
      "                    Lorem ipsum dolor sit amet, consectetur adipiscing elit, sed do eiusmod tempor incididunt ut labore\n",
      "                    et dolore magna aliqua. Vitae justo eget magna fermentum iaculis eu. Nibh sit amet commodo nulla\n",
      "                    facilisi nullam vehicula ipsum. Elit pellentesque habitant morbi tristique senectus et netus et\n",
      "                    malesuada.\n",
      "                </div>]\n"
     ]
    }
   ],
   "source": [
    "next_sibs = soup.find(class_=\"post__title\").find_next_siblings()\n",
    "print(next_sibs)"
   ]
  },
  {
   "cell_type": "code",
   "execution_count": 26,
   "metadata": {},
   "outputs": [
    {
     "name": "stdout",
     "output_type": "stream",
     "text": [
      "/supermarket/\n",
      "shop_link\n",
      "/clothes/\n",
      "777\n"
     ]
    }
   ],
   "source": [
    "links = soup.find(class_=\"some__links\").find_all('a')\n",
    "# print(links)\n",
    "for link in links:\n",
    "    link_href_attr = link.get(\"href\")\n",
    "    link_href_attr1 = link[\"href\"]\n",
    "\n",
    "    link_data_attr = link.get(\"data-attr\")\n",
    "    link_data_attr1 = link[\"data-attr\"]\n",
    "    # print(link_href_attr)\n",
    "    # print(link_data_attr)\n",
    "    # print()\n",
    "    print(link_href_attr1)\n",
    "    print(link_data_attr1)\n"
   ]
  },
  {
   "cell_type": "code",
   "execution_count": 33,
   "metadata": {},
   "outputs": [
    {
     "name": "stdout",
     "output_type": "stream",
     "text": [
      "<a data-attr=\"777\" href=\"/clothes/\">Одежда для взрослых</a>\n"
     ]
    },
    {
     "name": "stderr",
     "output_type": "stream",
     "text": [
      "C:\\Users\\Youtuzz\\AppData\\Local\\Temp\\ipykernel_14504\\1155871083.py:3: DeprecationWarning: The 'text' argument to find()-type methods is deprecated. Use 'string' instead.\n",
      "  find_a_by_text = soup.find(\"a\", text=re.compile(\"Одежда\"))\n"
     ]
    }
   ],
   "source": [
    "import re\n",
    "\n",
    "find_a_by_text = soup.find(\"a\", text=re.compile(\"Одежда\"))\n",
    "print(find_a_by_text)"
   ]
  },
  {
   "cell_type": "code",
   "execution_count": 39,
   "metadata": {},
   "outputs": [
    {
     "name": "stdout",
     "output_type": "stream",
     "text": [
      "['Wi-Fi Hack одежда', 'Одежда для взрослых']\n"
     ]
    },
    {
     "name": "stderr",
     "output_type": "stream",
     "text": [
      "C:\\Users\\Youtuzz\\AppData\\Local\\Temp\\ipykernel_14504\\2356886467.py:1: DeprecationWarning: The 'text' argument to find()-type methods is deprecated. Use 'string' instead.\n",
      "  find_all_clothes = soup.find_all(text=re.compile(\"([Оо]дежда)\"))\n"
     ]
    }
   ],
   "source": [
    "find_all_clothes = soup.find_all(text=re.compile(\"([Оо]дежда)\"))\n",
    "print(find_all_clothes)"
   ]
  }
 ],
 "metadata": {
  "kernelspec": {
   "display_name": "Python 3",
   "language": "python",
   "name": "python3"
  },
  "language_info": {
   "codemirror_mode": {
    "name": "ipython",
    "version": 3
   },
   "file_extension": ".py",
   "mimetype": "text/x-python",
   "name": "python",
   "nbconvert_exporter": "python",
   "pygments_lexer": "ipython3",
   "version": "3.11.3"
  },
  "orig_nbformat": 4
 },
 "nbformat": 4,
 "nbformat_minor": 2
}
